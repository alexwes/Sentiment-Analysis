{
 "cells": [
  {
   "cell_type": "code",
   "execution_count": 1,
   "id": "4b385db0",
   "metadata": {},
   "outputs": [],
   "source": [
    "from firestore_handler import FirestoreHandler\n",
    "from prophet import Prophet\n",
    "import pandas as pd"
   ]
  },
  {
   "cell_type": "code",
   "execution_count": 2,
   "id": "46b024d2",
   "metadata": {},
   "outputs": [
    {
     "data": {
      "text/html": [
       "<div>\n",
       "<style scoped>\n",
       "    .dataframe tbody tr th:only-of-type {\n",
       "        vertical-align: middle;\n",
       "    }\n",
       "\n",
       "    .dataframe tbody tr th {\n",
       "        vertical-align: top;\n",
       "    }\n",
       "\n",
       "    .dataframe thead th {\n",
       "        text-align: right;\n",
       "    }\n",
       "</style>\n",
       "<table border=\"1\" class=\"dataframe\">\n",
       "  <thead>\n",
       "    <tr style=\"text-align: right;\">\n",
       "      <th></th>\n",
       "      <th>timestamp</th>\n",
       "      <th>tweet-volume</th>\n",
       "      <th>sentiment</th>\n",
       "      <th>macd.hist</th>\n",
       "      <th>20ema</th>\n",
       "      <th>stoch.k</th>\n",
       "      <th>50sma</th>\n",
       "      <th>stoch.d</th>\n",
       "      <th>close</th>\n",
       "      <th>200sma</th>\n",
       "      <th>volume</th>\n",
       "      <th>RSI</th>\n",
       "    </tr>\n",
       "  </thead>\n",
       "  <tbody>\n",
       "    <tr>\n",
       "      <th>0</th>\n",
       "      <td>2021-07-29</td>\n",
       "      <td>6097</td>\n",
       "      <td>0.316540</td>\n",
       "      <td>50.668530</td>\n",
       "      <td>2128.191172</td>\n",
       "      <td>71.550027</td>\n",
       "      <td>2141.262662</td>\n",
       "      <td>71.709080</td>\n",
       "      <td>2290.060278</td>\n",
       "      <td>2125.295141</td>\n",
       "      <td>59463.192244</td>\n",
       "      <td>59.772270</td>\n",
       "    </tr>\n",
       "    <tr>\n",
       "      <th>1</th>\n",
       "      <td>2021-07-28</td>\n",
       "      <td>7373</td>\n",
       "      <td>0.268306</td>\n",
       "      <td>54.910091</td>\n",
       "      <td>2114.198836</td>\n",
       "      <td>70.435435</td>\n",
       "      <td>2148.329749</td>\n",
       "      <td>75.635656</td>\n",
       "      <td>2332.627574</td>\n",
       "      <td>2120.280098</td>\n",
       "      <td>110157.482473</td>\n",
       "      <td>61.813462</td>\n",
       "    </tr>\n",
       "    <tr>\n",
       "      <th>2</th>\n",
       "      <td>2021-07-27</td>\n",
       "      <td>6768</td>\n",
       "      <td>0.117391</td>\n",
       "      <td>48.461223</td>\n",
       "      <td>2086.960041</td>\n",
       "      <td>72.634810</td>\n",
       "      <td>2150.989058</td>\n",
       "      <td>81.233502</td>\n",
       "      <td>2256.300777</td>\n",
       "      <td>2114.800872</td>\n",
       "      <td>114152.983705</td>\n",
       "      <td>58.694985</td>\n",
       "    </tr>\n",
       "    <tr>\n",
       "      <th>3</th>\n",
       "      <td>2021-07-26</td>\n",
       "      <td>8730</td>\n",
       "      <td>0.153076</td>\n",
       "      <td>45.747070</td>\n",
       "      <td>2070.017697</td>\n",
       "      <td>82.433407</td>\n",
       "      <td>2157.927723</td>\n",
       "      <td>84.048041</td>\n",
       "      <td>2239.095204</td>\n",
       "      <td>2109.659437</td>\n",
       "      <td>268505.117827</td>\n",
       "      <td>57.915400</td>\n",
       "    </tr>\n",
       "  </tbody>\n",
       "</table>\n",
       "</div>"
      ],
      "text/plain": [
       "    timestamp  tweet-volume  sentiment  macd.hist        20ema    stoch.k  \\\n",
       "0  2021-07-29          6097   0.316540  50.668530  2128.191172  71.550027   \n",
       "1  2021-07-28          7373   0.268306  54.910091  2114.198836  70.435435   \n",
       "2  2021-07-27          6768   0.117391  48.461223  2086.960041  72.634810   \n",
       "3  2021-07-26          8730   0.153076  45.747070  2070.017697  82.433407   \n",
       "\n",
       "         50sma    stoch.d        close       200sma         volume        RSI  \n",
       "0  2141.262662  71.709080  2290.060278  2125.295141   59463.192244  59.772270  \n",
       "1  2148.329749  75.635656  2332.627574  2120.280098  110157.482473  61.813462  \n",
       "2  2150.989058  81.233502  2256.300777  2114.800872  114152.983705  58.694985  \n",
       "3  2157.927723  84.048041  2239.095204  2109.659437  268505.117827  57.915400  "
      ]
     },
     "execution_count": 2,
     "metadata": {},
     "output_type": "execute_result"
    }
   ],
   "source": [
    "fire = FirestoreHandler()\n",
    "\n",
    "df = pd.DataFrame(fire.get_indicators(\"ethereum\"))\n",
    "df"
   ]
  },
  {
   "cell_type": "code",
   "execution_count": 25,
   "id": "904efa01",
   "metadata": {},
   "outputs": [
    {
     "name": "stderr",
     "output_type": "stream",
     "text": [
      "INFO:prophet:Disabling yearly seasonality. Run prophet with yearly_seasonality=True to override this.\n",
      "INFO:prophet:Disabling weekly seasonality. Run prophet with weekly_seasonality=True to override this.\n",
      "INFO:prophet:Disabling daily seasonality. Run prophet with daily_seasonality=True to override this.\n",
      "INFO:prophet:n_changepoints greater than number of observations. Using 2.\n"
     ]
    },
    {
     "name": "stdout",
     "output_type": "stream",
     "text": [
      "Help on function make_future_dataframe in module prophet.forecaster:\n",
      "\n",
      "make_future_dataframe(self, periods, freq='D', include_history=True)\n",
      "    Simulate the trend using the extrapolated generative model.\n",
      "    \n",
      "    Parameters\n",
      "    ----------\n",
      "    periods: Int number of periods to forecast forward.\n",
      "    freq: Any valid frequency for pd.date_range, such as 'D' or 'M'.\n",
      "    include_history: Boolean to include the historical dates in the data\n",
      "        frame for predictions.\n",
      "    \n",
      "    Returns\n",
      "    -------\n",
      "    pd.Dataframe that extends forward from the end of self.history for the\n",
      "    requested number of periods.\n",
      "\n"
     ]
    },
    {
     "ename": "ValueError",
     "evalue": "Regressor 'volume' missing from dataframe",
     "output_type": "error",
     "traceback": [
      "\u001b[0;31m---------------------------------------------------------------------------\u001b[0m",
      "\u001b[0;31mValueError\u001b[0m                                Traceback (most recent call last)",
      "\u001b[0;32m<ipython-input-25-f0ee628b055d>\u001b[0m in \u001b[0;36m<module>\u001b[0;34m\u001b[0m\n\u001b[1;32m      7\u001b[0m \u001b[0mfuture\u001b[0m \u001b[0;34m=\u001b[0m \u001b[0mm\u001b[0m\u001b[0;34m.\u001b[0m\u001b[0mmake_future_dataframe\u001b[0m\u001b[0;34m(\u001b[0m\u001b[0mperiods\u001b[0m\u001b[0;34m=\u001b[0m\u001b[0;36m20\u001b[0m\u001b[0;34m)\u001b[0m\u001b[0;34m\u001b[0m\u001b[0;34m\u001b[0m\u001b[0m\n\u001b[1;32m      8\u001b[0m \u001b[0mhelp\u001b[0m\u001b[0;34m(\u001b[0m\u001b[0mProphet\u001b[0m\u001b[0;34m.\u001b[0m\u001b[0mmake_future_dataframe\u001b[0m\u001b[0;34m)\u001b[0m\u001b[0;34m\u001b[0m\u001b[0;34m\u001b[0m\u001b[0m\n\u001b[0;32m----> 9\u001b[0;31m \u001b[0mforecast\u001b[0m \u001b[0;34m=\u001b[0m \u001b[0mm\u001b[0m\u001b[0;34m.\u001b[0m\u001b[0mpredict\u001b[0m\u001b[0;34m(\u001b[0m\u001b[0mfuture\u001b[0m\u001b[0;34m)\u001b[0m\u001b[0;34m\u001b[0m\u001b[0;34m\u001b[0m\u001b[0m\n\u001b[0m\u001b[1;32m     10\u001b[0m \u001b[0;31m# m.plot(forecast)\u001b[0m\u001b[0;34m\u001b[0m\u001b[0;34m\u001b[0m\u001b[0;34m\u001b[0m\u001b[0m\n",
      "\u001b[0;32m~/Desktop/anaconda3/lib/python3.8/site-packages/prophet/forecaster.py\u001b[0m in \u001b[0;36mpredict\u001b[0;34m(self, df)\u001b[0m\n\u001b[1;32m   1203\u001b[0m             \u001b[0;32mif\u001b[0m \u001b[0mdf\u001b[0m\u001b[0;34m.\u001b[0m\u001b[0mshape\u001b[0m\u001b[0;34m[\u001b[0m\u001b[0;36m0\u001b[0m\u001b[0;34m]\u001b[0m \u001b[0;34m==\u001b[0m \u001b[0;36m0\u001b[0m\u001b[0;34m:\u001b[0m\u001b[0;34m\u001b[0m\u001b[0;34m\u001b[0m\u001b[0m\n\u001b[1;32m   1204\u001b[0m                 \u001b[0;32mraise\u001b[0m \u001b[0mValueError\u001b[0m\u001b[0;34m(\u001b[0m\u001b[0;34m'Dataframe has no rows.'\u001b[0m\u001b[0;34m)\u001b[0m\u001b[0;34m\u001b[0m\u001b[0;34m\u001b[0m\u001b[0m\n\u001b[0;32m-> 1205\u001b[0;31m             \u001b[0mdf\u001b[0m \u001b[0;34m=\u001b[0m \u001b[0mself\u001b[0m\u001b[0;34m.\u001b[0m\u001b[0msetup_dataframe\u001b[0m\u001b[0;34m(\u001b[0m\u001b[0mdf\u001b[0m\u001b[0;34m.\u001b[0m\u001b[0mcopy\u001b[0m\u001b[0;34m(\u001b[0m\u001b[0;34m)\u001b[0m\u001b[0;34m)\u001b[0m\u001b[0;34m\u001b[0m\u001b[0;34m\u001b[0m\u001b[0m\n\u001b[0m\u001b[1;32m   1206\u001b[0m \u001b[0;34m\u001b[0m\u001b[0m\n\u001b[1;32m   1207\u001b[0m         \u001b[0mdf\u001b[0m\u001b[0;34m[\u001b[0m\u001b[0;34m'trend'\u001b[0m\u001b[0;34m]\u001b[0m \u001b[0;34m=\u001b[0m \u001b[0mself\u001b[0m\u001b[0;34m.\u001b[0m\u001b[0mpredict_trend\u001b[0m\u001b[0;34m(\u001b[0m\u001b[0mdf\u001b[0m\u001b[0;34m)\u001b[0m\u001b[0;34m\u001b[0m\u001b[0;34m\u001b[0m\u001b[0m\n",
      "\u001b[0;32m~/Desktop/anaconda3/lib/python3.8/site-packages/prophet/forecaster.py\u001b[0m in \u001b[0;36msetup_dataframe\u001b[0;34m(self, df, initialize_scales)\u001b[0m\n\u001b[1;32m    275\u001b[0m         \u001b[0;32mfor\u001b[0m \u001b[0mname\u001b[0m \u001b[0;32min\u001b[0m \u001b[0mself\u001b[0m\u001b[0;34m.\u001b[0m\u001b[0mextra_regressors\u001b[0m\u001b[0;34m:\u001b[0m\u001b[0;34m\u001b[0m\u001b[0;34m\u001b[0m\u001b[0m\n\u001b[1;32m    276\u001b[0m             \u001b[0;32mif\u001b[0m \u001b[0mname\u001b[0m \u001b[0;32mnot\u001b[0m \u001b[0;32min\u001b[0m \u001b[0mdf\u001b[0m\u001b[0;34m:\u001b[0m\u001b[0;34m\u001b[0m\u001b[0;34m\u001b[0m\u001b[0m\n\u001b[0;32m--> 277\u001b[0;31m                 raise ValueError(\n\u001b[0m\u001b[1;32m    278\u001b[0m                     \u001b[0;34m'Regressor {name!r} missing from dataframe'\u001b[0m\u001b[0;34m\u001b[0m\u001b[0;34m\u001b[0m\u001b[0m\n\u001b[1;32m    279\u001b[0m                     \u001b[0;34m.\u001b[0m\u001b[0mformat\u001b[0m\u001b[0;34m(\u001b[0m\u001b[0mname\u001b[0m\u001b[0;34m=\u001b[0m\u001b[0mname\u001b[0m\u001b[0;34m)\u001b[0m\u001b[0;34m\u001b[0m\u001b[0;34m\u001b[0m\u001b[0m\n",
      "\u001b[0;31mValueError\u001b[0m: Regressor 'volume' missing from dataframe"
     ]
    }
   ],
   "source": [
    "dfm = df[['timestamp', 'close','volume']]\n",
    "dfm.columns=['ds','y','volume']\n",
    "dfm.head()\n",
    "m = Prophet()\n",
    "m.add_regressor('volume')\n",
    "m.fit(dfm)\n",
    "future = m.make_future_dataframe(periods=20)\n",
    "forecast = m.predict(future)\n",
    "# m.plot(forecast)"
   ]
  },
  {
   "cell_type": "code",
   "execution_count": 15,
   "id": "e38e674b-4f79-425f-bde2-077277e711e7",
   "metadata": {},
   "outputs": [],
   "source": []
  },
  {
   "cell_type": "code",
   "execution_count": null,
   "id": "a30dc5f5-e2e7-4dd5-a054-cbf77967b8d0",
   "metadata": {},
   "outputs": [],
   "source": []
  }
 ],
 "metadata": {
  "kernelspec": {
   "display_name": "Python 3",
   "language": "python",
   "name": "python3"
  },
  "language_info": {
   "codemirror_mode": {
    "name": "ipython",
    "version": 3
   },
   "file_extension": ".py",
   "mimetype": "text/x-python",
   "name": "python",
   "nbconvert_exporter": "python",
   "pygments_lexer": "ipython3",
   "version": "3.8.8"
  }
 },
 "nbformat": 4,
 "nbformat_minor": 5
}
